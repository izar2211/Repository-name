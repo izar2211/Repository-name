{
  "nbformat": 4,
  "nbformat_minor": 0,
  "metadata": {
    "colab": {
      "provenance": [],
      "authorship_tag": "ABX9TyPnEP6u0kgTlzRzb1msjmSw",
      "include_colab_link": true
    },
    "kernelspec": {
      "name": "python3",
      "display_name": "Python 3"
    },
    "language_info": {
      "name": "python"
    }
  },
  "cells": [
    {
      "cell_type": "markdown",
      "metadata": {
        "id": "view-in-github",
        "colab_type": "text"
      },
      "source": [
        "<a href=\"https://colab.research.google.com/github/izar2211/Repository-name/blob/main/Pruebas.ipynb\" target=\"_parent\"><img src=\"https://colab.research.google.com/assets/colab-badge.svg\" alt=\"Open In Colab\"/></a>"
      ]
    },
    {
      "cell_type": "code",
      "execution_count": 1,
      "metadata": {
        "colab": {
          "base_uri": "https://localhost:8080/"
        },
        "id": "KQZNSrThqRmt",
        "outputId": "2f495c56-83cf-4413-9797-edf51e6f7de0"
      },
      "outputs": [
        {
          "output_type": "stream",
          "name": "stdout",
          "text": [
            "Collecting sorting\n",
            "  Downloading sorting-1.0.3.tar.gz (3.7 kB)\n",
            "  Preparing metadata (setup.py) ... \u001b[?25l\u001b[?25hdone\n",
            "Building wheels for collected packages: sorting\n",
            "  Building wheel for sorting (setup.py) ... \u001b[?25l\u001b[?25hdone\n",
            "  Created wheel for sorting: filename=sorting-1.0.3-py3-none-any.whl size=5859 sha256=408752bb5d669a4ed11f140b72337774f8c76d6b7760b86b391afbec91084661\n",
            "  Stored in directory: /root/.cache/pip/wheels/28/e6/54/95c07a73eea246edf80f073f37d53933b12eb7a4358bce210f\n",
            "Successfully built sorting\n",
            "Installing collected packages: sorting\n",
            "Successfully installed sorting-1.0.3\n"
          ]
        }
      ],
      "source": [
        "pip install sorting\n"
      ]
    },
    {
      "cell_type": "code",
      "source": [
        "import sorting\n",
        "lista= [4,5,32,2,53,67,23]\n",
        "lista_ordenada=sorting.bubble(lista)\n",
        "print(lista_ordenada)"
      ],
      "metadata": {
        "colab": {
          "base_uri": "https://localhost:8080/"
        },
        "id": "HbK69MKBrdjw",
        "outputId": "9a7cc3a3-3e2c-4935-f550-96663a379324"
      },
      "execution_count": 2,
      "outputs": [
        {
          "output_type": "stream",
          "name": "stdout",
          "text": [
            "[2, 4, 5, 23, 32, 53, 67]\n"
          ]
        }
      ]
    }
  ]
}